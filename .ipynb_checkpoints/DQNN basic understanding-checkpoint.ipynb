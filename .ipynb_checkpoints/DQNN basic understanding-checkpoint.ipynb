{
 "cells": [
  {
   "cell_type": "markdown",
   "id": "0166d9d2",
   "metadata": {},
   "source": [
    "# 1. Feedforward QNNs"
   ]
  },
  {
   "cell_type": "code",
   "execution_count": 37,
   "id": "9bcd9e18",
   "metadata": {},
   "outputs": [],
   "source": [
    "import numpy as np\n",
    "import scipy as sc\n",
    "import qutip as qt\n",
    "from time import time\n",
    "from random import sample\n",
    "import matplotlib.pyplot as plt\n",
    "import random"
   ]
  },
  {
   "cell_type": "markdown",
   "id": "1972e7fc",
   "metadata": {},
   "source": [
    "## 1.1 Definitions, data conventions"
   ]
  },
  {
   "cell_type": "code",
   "execution_count": 2,
   "id": "8fea4f22",
   "metadata": {},
   "outputs": [],
   "source": [
    "# kets\n",
    "qubit0 = qt.basis(2, 0)\n",
    "qubit1 = qt.basis(2, 1)\n",
    "\n",
    "# density matrices\n",
    "qubit0mat = qubit0 * qubit0.dag()\n",
    "qubit1mat = qubit1 * qubit1.dag()"
   ]
  },
  {
   "cell_type": "markdown",
   "id": "3d1b74d7",
   "metadata": {},
   "source": [
    "The parameter for qnnArch is a 1-dimensional list of natural numbers that refer to the number of perceptrons in each layer 2-3-2 e.g. \n",
    "$qnnArch = [2, 3, 2]$\n",
    "\n",
    "Network unitaries look like:\n",
    "\n",
    "$unitaries = [[], [U^1_{1}, ..., U^1_{m_{1}}], ..., [U^{out}_{1}, ..., U^{out}_{m_{out}}]]$\n",
    "\n",
    "Training data looks like:\n",
    "\n",
    "$trainingData = [state_{1}, unitary*state_{1}], ..., [state_{N}, unitary*state_{N}]$"
   ]
  },
  {
   "cell_type": "markdown",
   "id": "c895625a",
   "metadata": {},
   "source": [
    "## 1.2 Helper functions"
   ]
  },
  {
   "cell_type": "code",
   "execution_count": 4,
   "id": "99e2abb2",
   "metadata": {},
   "outputs": [],
   "source": [
    "def partialTraceKeep(obj, keep):\n",
    "    res = obj\n",
    "    \n",
    "    if len(keep) != len(obj.dims[0]):\n",
    "        res = obj.ptrace(keep)\n",
    "    \n",
    "    return res\n",
    "\n",
    "def partialTraceRem(obj, rem):\n",
    "    rem.sort(reverse = True)\n",
    "    keep = list(range(len(obj.dims[0])))\n",
    "    \n",
    "    for x in rem:\n",
    "        keep.pop(x)\n",
    "    \n",
    "    res = obj\n",
    "    \n",
    "    if len(keep) != len(obj.dims[0]):\n",
    "        res = obj.ptrace(keep)\n",
    "        \n",
    "    return res"
   ]
  },
  {
   "cell_type": "code",
   "execution_count": 5,
   "id": "3204f14e",
   "metadata": {},
   "outputs": [],
   "source": [
    "def swappedOp(obj, i, j):\n",
    "    if i == j:\n",
    "        return obj\n",
    "    \n",
    "    numberOfQubits = len(obj.dims[0])\n",
    "    permute = list(range(numberOfQubits))\n",
    "    permute[i], permute[j] = permute[j], permute[i]\n",
    "    \n",
    "    return obj.permute(permute)"
   ]
  },
  {
   "cell_type": "code",
   "execution_count": 15,
   "id": "bd8d7726",
   "metadata": {},
   "outputs": [],
   "source": [
    "def tensoredId(N):\n",
    "    res = qt.qeye(2**N)\n",
    "    \n",
    "    dims = [2 for i in range(N)]\n",
    "    dims = [dims.copy(), dims.copy()]\n",
    "    res.dims = dims\n",
    "    \n",
    "    return res\n",
    "\n",
    "def tensoredQubit0(N):\n",
    "    res = qt.fock(2**N).proj()\n",
    "    \n",
    "    dims = [2 for i in range(N)]\n",
    "    dims = [dims.copy(), dims.copy()]\n",
    "    res.dims = dims\n",
    "    \n",
    "    return res"
   ]
  },
  {
   "cell_type": "code",
   "execution_count": 16,
   "id": "fb0ff668",
   "metadata": {},
   "outputs": [],
   "source": [
    "def unitariesCopy(unitaries):\n",
    "    newUnitaries = []\n",
    "    \n",
    "    for layer in unitaries:\n",
    "        newLayer = []\n",
    "        \n",
    "        for unitary in layer:\n",
    "            newLayer.append(unitary.copy())\n",
    "            \n",
    "        newUnitaries.append(newLayer)\n",
    "    \n",
    "    return newUnitaries"
   ]
  },
  {
   "cell_type": "markdown",
   "id": "8f7bfcef",
   "metadata": {},
   "source": [
    "## 1.3 Random generation of unitaries, training data and networks"
   ]
  },
  {
   "cell_type": "code",
   "execution_count": 39,
   "id": "2ed12e21",
   "metadata": {},
   "outputs": [],
   "source": [
    "def randomQubitUnitary(numQubits):\n",
    "    dim = 2**numQubits\n",
    "    \n",
    "    res = np.random.normal(size = (dim, dim)) + 1j * np.random.normal(size = (dim, dim))\n",
    "    res = sc.linalg.orth(res)\n",
    "    res = qt.Qobj(res)\n",
    "    \n",
    "    dims = [2 for i in range(numQubits)]\n",
    "    dims = [dims.copy(), dims.copy()]\n",
    "    res.dims = dims\n",
    "    \n",
    "    return res"
   ]
  },
  {
   "cell_type": "code",
   "execution_count": 41,
   "id": "9536ba24",
   "metadata": {},
   "outputs": [],
   "source": [
    "def randomQubitState(numQubits):\n",
    "    dim = 2*numQubits\n",
    "    \n",
    "    res = np.random.normal(size = (dim, 1)) + 1j * np.random.normal(size = (dim, 1))\n",
    "    res = (1 / sc.linalg.norm(res)) * res\n",
    "    res = qt.Qobj(res)\n",
    "    \n",
    "    dims1 = [2 for i in range(numQubits)]\n",
    "    dims2 = [1 for i in range(numQubits)]\n",
    "    dims = [dims1, dims2]\n",
    "    res.dims = dims\n",
    "    \n",
    "    return res\n",
    "\n",
    "def randomTrainingData(unitary, N): # N in number of training pairs\n",
    "    numQubits = len(unitary.dims[0])\n",
    "    \n",
    "    trainingData = []\n",
    "    for i in range(N):\n",
    "        t = randomQubitState(numQubits)\n",
    "        ut = unitary * t\n",
    "        trainingData.append([t, ut])\n",
    "        \n",
    "    return trainingData"
   ]
  },
  {
   "cell_type": "code",
   "execution_count": 19,
   "id": "cef78f2f",
   "metadata": {},
   "outputs": [],
   "source": [
    "def randomNetwork(qnnArch, numTrainingPairs):\n",
    "    assert qnnArch[0] == qnnArch[-1], \"Not a valid QNN-Architecture.\"\n",
    "    \n",
    "    networkUnitary = randomQubitUnitary(qnnArch[-1])\n",
    "    networkTrainingData = randomTrainingData(networkUnitary, numTrainingPairs)\n",
    "    \n",
    "    networkUnitaries = [[]]\n",
    "    for l in range(1, len(qnnArch)):\n",
    "        numInputQubits = qnnArch[l - 1]\n",
    "        numOutputQubits = qnnArch[l]\n",
    "        networkUnitaries.append([])\n",
    "        \n",
    "        for j in range(numOutputQubits):\n",
    "            unitary = randomQubitUnitary(numInputQubits + 1)\n",
    "            \n",
    "            if numOutputQubits - 1 != 0:\n",
    "                unitary = qt.tensor(randomQubitUnitary(numInputQubits + 1), tensoredId(numOutputQubits - 1))\n",
    "                unitary = swappedOp(unitary, numInputQubits, numInputQubits + j)\n",
    "            networkUnitaries[1].append(unitary)\n",
    "            \n",
    "    return (qnnArch, networkUnitaries, networkTrainingData, networkUnitary)"
   ]
  },
  {
   "cell_type": "markdown",
   "id": "f52351b1",
   "metadata": {},
   "source": [
    "## 1.4 QNN Code"
   ]
  },
  {
   "cell_type": "code",
   "execution_count": 42,
   "id": "3c0be781",
   "metadata": {},
   "outputs": [],
   "source": [
    "def costFunction(trainingData, outputStates):\n",
    "    costSum = 0\n",
    "    \n",
    "    for i in range(len(trainingData)):\n",
    "        costSum += trainingData[i][1].dag() * outputStates[i] * trainingData[i][1]\n",
    "    \n",
    "    return costSum.tr()/len(trainingData)"
   ]
  },
  {
   "cell_type": "code",
   "execution_count": 43,
   "id": "10b06d1a",
   "metadata": {},
   "outputs": [],
   "source": [
    "def makeLayerChannel(qnnArch, unitaries, l, inputState):\n",
    "    numInputQubits = qnnArch[l-1]\n",
    "    numOutputQubits = qnnArch[l]\n",
    "    \n",
    "    states = qt.tensor(inputState, tensoredQubit0(numOutputQubits))\n",
    "    \n",
    "    layerUni = unitaries[l][0].copy()\n",
    "    for i in range(1, numOutputQubits):\n",
    "        layerUni = unitaries[l][i] * layerUni\n",
    "        \n",
    "    return partialTraceRem(layerUni * state * layerUni.dag(), list(range(numInputQubits)))"
   ]
  },
  {
   "cell_type": "code",
   "execution_count": 44,
   "id": "39b15998",
   "metadata": {},
   "outputs": [],
   "source": [
    "def makeAdjointLayerChannel(qnnArch, unitaries, l, outputState):\n",
    "    numInputQubits = qnnArch[l-1]\n",
    "    numOutputQubits = qnnArch[l]\n",
    "    \n",
    "    inputId = tensoredId(numInputQubits)\n",
    "    state1 = qt.tensor(inputId, tensoredQubit0(numOutputQubits))\n",
    "    state2 = qt.tensor(inputId, outputState)\n",
    "    \n",
    "    layerUni = unitaries[l][0].copy()\n",
    "    for i in range(1, numOutputQubits):\n",
    "        layerUni = unitaries[l][i] * layerUni\n",
    "        \n",
    "    return partialTraceKeep(state1 * layerUni.dag() * state2 * layerUni, list(range(numInputQubits)))"
   ]
  },
  {
   "cell_type": "code",
   "execution_count": 45,
   "id": "2572d5cb",
   "metadata": {},
   "outputs": [],
   "source": [
    "def feedforward(qnnArch, unitaries, trainingData):\n",
    "    storedStates = []\n",
    "    \n",
    "    for x in range(len(trainingData)):\n",
    "        currentState = trainingData[x][0] * trainingData[x][0].dag()\n",
    "        layerwiseList = [currentState]\n",
    "        \n",
    "        for l in range(l, len(qnnArch)):\n",
    "            currentState = makeLayerChannel(qnnArch, unitaries, l, currentState)\n",
    "            layerwiseList.append(currentState)\n",
    "        storedStates.append(layerwiseList)\n",
    "    \n",
    "    return storedStates"
   ]
  },
  {
   "cell_type": "code",
   "execution_count": 48,
   "id": "0feb4aa4",
   "metadata": {},
   "outputs": [],
   "source": [
    "def makeUpdateMatrix(qnnArch, unitaries, trainningData, storedStates, \n",
    "                     lda, ep, l, j):\n",
    "    numInputQubits = qnnArch[l-1]\n",
    "    \n",
    "    summ = 0\n",
    "    for x in range(len(trainingData)):\n",
    "        firstPart = updateMatrixFirstPart(qnnArch, unitaries, \n",
    "                                          storedStates, l, k, x)\n",
    "        secondPart = updateMatrixSecondPart(qnnArch, unitaries, \n",
    "                                           trainingData, l, j, x)\n",
    "        mat = qt.commutator(firstPart, secondPart)\n",
    "        \n",
    "        keep = list(range(numInputQubits))\n",
    "        keep.append(numInputQubits + j)\n",
    "        mat = partialTraceKeep(mat, keep)\n",
    "        \n",
    "        summ = summ + mat\n",
    "        \n",
    "    summ = (-ep * (2**numInputQubits) / (lda * len(trainingData))) * summ\n",
    "    \n",
    "    return summ.expm()\n",
    "\n",
    "def updateMatrixFirstPart(qnnArch, unitaries, storedStates, l, j, x):\n",
    "    numInputQubits = qnnArch[l - 1]\n",
    "    numOutputQubit = qnn[l]\n",
    "    \n",
    "    state = qt.tensor(storedStates[x][l - 1], tensoredQubit0(numOutputQubits))\n",
    "    \n",
    "    productUni = unitaries[1][0]\n",
    "    for i in range(1, j + 1):\n",
    "        productUni = unitaries[l][i] * productUni\n",
    "    \n",
    "    return productUni * state * productUni.dag()\n",
    "\n",
    "def updateMatrixSecondPart(qnnArch, unitaries, trainingData, l, j, x):\n",
    "    numInputQubits = qnnArch[l - 1]\n",
    "    numOutputQubits = qnnArch[l]\n",
    "    \n",
    "    #calculate sigma state\n",
    "    state = trainingData[x][1] * trainingData[x][1].dag()\n",
    "    for i in range(len(qnnArch) - 1, l, -1):\n",
    "        state = makeAdjointLayerChannel(qnnArch, unitaries, i, state)\n",
    "    state = qt.tensor(tensoredId(numInputQubits), state)\n",
    "    \n",
    "    productUni = tensoredId(numInputQubits + numOutputQubits)\n",
    "    for i in range(j + 1, numOutputQubits):\n",
    "        productUni = unitaries[l][i] * productUni\n",
    "    \n",
    "    return productUni.dag() * state * productUni\n",
    "\n",
    "def makeUpdateMatrixTensored(qnnArch, unitaries, lda, ep, \n",
    "                             trainingData, storedStates, l, j):\n",
    "    numInputQubits = qnnArch[l - 1]\n",
    "    numOutputQubits = qnnArch[l]\n",
    "    \n",
    "    res = makeUpdateMatrix(qnnArch, unitaries, lda, ep, \n",
    "                           trainingData, storedStates, l, j)\n",
    "    if numOutputQubits - 1 != 0:\n",
    "        res = qt.tensor(res, tensoredId(numOutputQubits - 1))\n",
    "        \n",
    "    return swappedOp(res, numinputQubits, numInputQubits + j)"
   ]
  },
  {
   "cell_type": "code",
   "execution_count": null,
   "id": "7699f1a7",
   "metadata": {},
   "outputs": [],
   "source": []
  },
  {
   "cell_type": "code",
   "execution_count": null,
   "id": "98879be4",
   "metadata": {},
   "outputs": [],
   "source": []
  },
  {
   "cell_type": "code",
   "execution_count": null,
   "id": "beacb345",
   "metadata": {},
   "outputs": [],
   "source": []
  },
  {
   "cell_type": "code",
   "execution_count": null,
   "id": "79a4b447",
   "metadata": {},
   "outputs": [],
   "source": []
  },
  {
   "cell_type": "code",
   "execution_count": null,
   "id": "5704ff65",
   "metadata": {},
   "outputs": [],
   "source": [
    "\n"
   ]
  },
  {
   "cell_type": "code",
   "execution_count": null,
   "id": "1175ccc1",
   "metadata": {},
   "outputs": [],
   "source": []
  },
  {
   "cell_type": "code",
   "execution_count": null,
   "id": "c1a7c5b0",
   "metadata": {},
   "outputs": [],
   "source": []
  }
 ],
 "metadata": {
  "kernelspec": {
   "display_name": "py310",
   "language": "python",
   "name": "py310"
  },
  "language_info": {
   "codemirror_mode": {
    "name": "ipython",
    "version": 3
   },
   "file_extension": ".py",
   "mimetype": "text/x-python",
   "name": "python",
   "nbconvert_exporter": "python",
   "pygments_lexer": "ipython3",
   "version": "3.10.4"
  }
 },
 "nbformat": 4,
 "nbformat_minor": 5
}
